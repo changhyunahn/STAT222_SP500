{
 "metadata": {
  "name": ""
 },
 "nbformat": 3,
 "nbformat_minor": 0,
 "worksheets": [
  {
   "cells": [
    {
     "cell_type": "markdown",
     "metadata": {},
     "source": [
      "# <center> SP 500 Analysis\n",
      "\n",
      "        This is a group project for the Master's Capstone course STAT222 at UC Berkeley, Statistics Department. We have three grouop members: Changhyn Ahn, Xi Edward Cai, and Biwei Betti Tao; our research object is the public SP500 data, and our public github is at https://github.com/changhyunahn/STAT222_SP500 .\n",
      "        \n",
      "        We splitted the research into two modules: 1) volatility comparison, and 2) weekend effect.\n",
      "        \n",
      "        In modeule 1, we intend to find out if the market was more responsive to bad news as opposed to good news? Restoring from a recent financial crisis in 2008, the world witnessed a volatile stock market - in particular, in the notion of the financial sector - during the period of 2008 to 2013. One perhaps might inevitably wonder, \u201cIn chain of unprecedented bad news in that meltdown, has the market suffered from an everlasting increased systemic risk in contrast to pre-event state?\u201d Looking at the historical quotes of global stock market indices (e.g. SP500, DJ, NASDAQ), we attempted to identify world-renown infamous financial crisis (such as dot-com and sub-prime) occurred during the last decades - in particular, the late 90\u2019s and 00\u2019s. On the above datasets, we applied time-series analytics (such as ARIMA and GARCH) to construct models, which can illustrate then-market volatilities with their corresponding parameters. Then, we compared the above figures against those of the pre-event times, referred as the control group.\n",
      "\n",
      "        In module 2, we intend to employ a series of conventional statistical methods to analyze whether or not the stock market, resembled by the SP500 Index, exhibited a tendency against the weekend evenings. Our intention is to change minds of the traders who believe in the Weekend Effect, defined as, \"A phenomenon in financial markets in which stock returns on Mondays are often significantly lower than those of the immediate preceding Fridays.\" "
     ]
    },
    {
     "cell_type": "markdown",
     "metadata": {},
     "source": [
      "# <center> Volatility Comparison"
     ]
    },
    {
     "cell_type": "markdown",
     "metadata": {},
     "source": [
      "## Price data infile"
     ]
    },
    {
     "cell_type": "code",
     "collapsed": false,
     "input": [
      "\n",
      "import os\n",
      "print os.getcwd()\n",
      "os.chdir(\"D:\\Dropbox\\UC Berkeley\\spring\\STAT222\")\n",
      "\n",
      "from pandas import read_csv\n",
      "df = read_csv(\"daily.csv\", )\n",
      "Date= tuple(df['Date'])\n",
      "Price= tuple(df['Adj Close'])\n",
      "\n",
      "price = range(16143)\n",
      "date = range(16143)\n",
      "for x in range(16143):\n",
      "\tprice[x] = Price[16142-x]\n",
      "\tdate[x] = Date[16142-x]\n"
     ],
     "language": "python",
     "metadata": {},
     "outputs": [
      {
       "output_type": "stream",
       "stream": "stdout",
       "text": [
        "C:\\Users\\n\\Documents\\GitHub\\STAT222-SP500\n"
       ]
      }
     ],
     "prompt_number": 1
    },
    {
     "cell_type": "markdown",
     "metadata": {},
     "source": [
      "Financial markets definitely react to bad news but how? We think that once financial market suffers a crisis, then it will be changed inherently and cannot be turned back to previous state. We will show this by some time series analysis technique. Basically, we are using S\\&P 500 index rather than using an arbitrary stock price. One reason why we choose it as our primary source of data is because it is highly representative to global economies. S\\&P 500 is from U.S. stock markets and U.S. Stock markets affect all over the world. In addition to this, a stock market would be more appropriate as a research subject than other financial markets including real estates, bonds and derivatives etc. Stock is usually more liquid and flexible than fixed income sercurities or long term bonds. This make the index directly come up with news just in time. However, it is neither too riskier nor more complex than futures or derivatives markets where results might not be applied to general idea about how good news and bad news affect economies. Finally, individual price is not used for our research because we are hoping to avoid having troubles from non-systematic risk or idiosyncratic risk. In other words, we intend primarily to know effects on not a single company but whole economies.\n"
     ]
    },
    {
     "cell_type": "markdown",
     "metadata": {},
     "source": [
      "## Smoothed index"
     ]
    },
    {
     "cell_type": "code",
     "collapsed": false,
     "input": [
      "from decimal import *\n",
      "getcontext().prec= 6\n",
      "enddate = 2014 + Decimal(59)/Decimal(365)\n",
      "begindate = 1950 + Decimal(3)/Decimal(365)\n",
      "gap = (enddate - begindate)/(len(date)-1)\n",
      "numdate = range(len(date))\n",
      "for i in range(len(date)):\n",
      "\tnumdate[i] = begindate + i * gap\n",
      "\n",
      "sprice = range(16143)\n",
      "import numpy\n",
      "for x in range(16143):\n",
      "\tif x-60 < 0:\n",
      "\t\tsprice[x] = numpy.mean(price[0:x+60])\n",
      "\telse: \n",
      "\t\tif x+60 > 16142:\n",
      "\t\t\tsprice[x] = numpy.mean(price[x-60:16142])\n",
      "\t\telse:\n",
      "\t\t\tsprice[x] = numpy.mean(price[x-60:x+60])\n",
      "\n",
      "from pylab import *\n",
      "%matplotlib inline\n",
      "plot(numdate,sprice)"
     ],
     "language": "python",
     "metadata": {},
     "outputs": [
      {
       "metadata": {},
       "output_type": "pyout",
       "prompt_number": 2,
       "text": [
        "[<matplotlib.lines.Line2D at 0x9c720f0>]"
       ]
      },
      {
       "metadata": {},
       "output_type": "display_data",
       "png": "[encoded data removed]",
       "text": [
        "<matplotlib.figure.Figure at 0x92c08d0>"
       ]
      }
     ],
     "prompt_number": 2
    },
    {
     "cell_type": "markdown",
     "metadata": {},
     "source": [
      "We tried to find the dates crises began and ended. We assumed that crises began when bubbles were severe. In other words, the highest value during a period of time  and would be the starting date of crisis. But the problem is, the index data is so volatile that there are so many maxima. In  turn, I rather used smoothing to estimate a general pattern to pick the maxima. By k-nearest neighbor method, we estimated local maxima and chose the period we were using for further analysis. The plot shows the result. Now we can see that it has more smooth shape that we can pick maxima and minima."
     ]
    },
    {
     "cell_type": "markdown",
     "metadata": {},
     "source": [
      "## Find max and min index"
     ]
    },
    {
     "cell_type": "code",
     "collapsed": false,
     "input": [
      "maxprice = range(0)\n",
      "maxdate = range(0)\n",
      "maxobs = range(0)\n",
      "for i in range(16143):\n",
      "\tmaxi = 0\n",
      "\tif i-180 < 0:\n",
      "\t\ta = sprice[0:i-1] + sprice[i+1:i+180]\n",
      "\telse:\n",
      "\t\tif i+180 > 16142:\n",
      "\t\t\ta = sprice[i-180:i-1] + sprice[i+1:16142]\n",
      "\t\telse:\n",
      "\t\t\ta = sprice[i-180:i-1] + sprice[i+1:i+180]\n",
      "\tfor number in a:\n",
      "\t\tif number > maxi:\n",
      "\t\t\tmaxi = number\n",
      "\tif sprice[i] > maxi:\n",
      "\t\tmaxprice = maxprice + [sprice[i]]\n",
      "\t\tmaxdate = maxdate + [numdate[i]]\n",
      "\t\tmaxobs = maxobs + [i]\n",
      "\n",
      "minprice = range(0)\n",
      "mindate = range(0)\n",
      "minobs = range(0)\n",
      "for i in range(16143):\n",
      "\tmini = 2000\n",
      "\tif i-180 < 0:\n",
      "\t\ta = sprice[0:i-1] + sprice[i+1:i+180]\n",
      "\telse:\n",
      "\t\tif i+180 > 16142:\n",
      "\t\t\ta = sprice[i-180:i-1] + sprice[i+1:16142]\n",
      "\t\telse:\n",
      "\t\t\ta = sprice[i-180:i-1] + sprice[i+1:i+180]\n",
      "\tfor number in a:\n",
      "\t\tif number < mini:\n",
      "\t\t\tmini = number\n",
      "\tif sprice[i] < mini:\n",
      "\t\tminprice = minprice + [sprice[i]]\n",
      "\t\tmindate = mindate + [numdate[i]]\n",
      "\t\tminobs = minobs + [i]\n",
      "\n",
      "\n",
      "\n",
      "from pylab import *\n",
      "plot(numdate,sprice)\n",
      "plot(maxdate, maxprice, \"o\", label=\"max\")\n",
      "plot(mindate, minprice, \"o\", label=\"min\")\n",
      "legend()\n",
      "\n",
      "from matplotlib import pyplot as plt    \n",
      "\n",
      "font = {'family' : 'normal',\n",
      "        'weight' : 'bold',\n",
      "        'size'   : 12}\n",
      "\n",
      "matplotlib.rc('font', **font)\n",
      "\n",
      "fig = plt.figure()\n",
      "plt.plot(numdate,sprice)\n",
      "plt.plot(maxdate, maxprice, \"o\", label=\"max\")\n",
      "plt.plot(mindate, minprice, \"o\", label=\"min\")\n",
      "plt.legend(loc=0)\n",
      "fig.suptitle('Smoothed Index', fontsize=20)\n",
      "plt.xlabel('Years', fontsize=18)\n",
      "plt.ylabel('S&P 500', fontsize=16)\n",
      "fig.savefig('test.jpg')\n"
     ],
     "language": "python",
     "metadata": {},
     "outputs": [
      {
       "output_type": "stream",
       "stream": "stderr",
       "text": [
        "C:\\Users\\n\\AppData\\Local\\Enthought\\Canopy\\User\\lib\\site-packages\\matplotlib\\font_manager.py:1236: UserWarning: findfont: Font family ['normal'] not found. Falling back to Bitstream Vera Sans\n",
        "  (prop.get_family(), self.defaultFamily[fontext]))\n"
       ]
      },
      {
       "metadata": {},
       "output_type": "display_data",
       "png": "[encoded data removed]",
       "text": [
        "<matplotlib.figure.Figure at 0x5e127f0>"
       ]
      },
      {
       "metadata": {},
       "output_type": "display_data",
       "png": "[encoded data removed]",
       "text": [
        "<matplotlib.figure.Figure at 0x9fe53c8>"
       ]
      }
     ],
     "prompt_number": 3
    },
    {
     "cell_type": "markdown",
     "metadata": {},
     "source": [
      "Based on dates when crises start, we cut off two different eras suppose to have different characteristics. The first time period is from Jun 16th, 2000 to August 10th, 2007. The index during this period is closely related to so-called the Dot-com bubble. The comparable period starts from August 11th, 2007 to May 2nd, 2011. This is related to the recent financial crisis mainly because of serial defaults in subprime mortgate."
     ]
    },
    {
     "cell_type": "markdown",
     "metadata": {},
     "source": [
      "# Movements of S&P 500 Daily Price"
     ]
    },
    {
     "cell_type": "code",
     "collapsed": false,
     "input": [
      "rreturn = range(len(price)-1)\n",
      "for i in range(len(price)-1):\n",
      "\trreturn[i]=(price[i+1] - price[i])/price[i]\n",
      "\n",
      "preev = price[12697:14493]\n",
      "postev = price[14494:15431]\n",
      "\n",
      "prerr = rreturn[12697:14493]\n",
      "postrr = rreturn[14494:15430]\n",
      "\n",
      "predate = numdate[12697:14493]\n",
      "postdate = numdate[14494:15431]\n",
      "plot(predate+postdate,preev+postev)\n",
      "axvline(maxdate[len(maxdate)-5], color='k')\n",
      "ylabel('years')\n",
      "\n",
      "from matplotlib import pyplot as plt    \n",
      "\n",
      "font = {'family' : 'normal',\n",
      "        'weight' : 'bold',\n",
      "        'size'   : 12}\n",
      "\n",
      "matplotlib.rc('font', **font)\n",
      "\n",
      "fig = plt.figure()\n",
      "plt.plot(predate+postdate,preev+postev)\n",
      "plt.axvline(maxdate[len(maxdate)-5], color='k')\n",
      "fig.suptitle('Truncated Index', fontsize=20)\n",
      "plt.xlabel('Years', fontsize=18)\n",
      "plt.ylabel('S&P 500', fontsize=16)\n",
      "fig.savefig('test.jpg')\n"
     ],
     "language": "python",
     "metadata": {},
     "outputs": [
      {
       "metadata": {},
       "output_type": "display_data",
       "png": "[encoded data removed]",
       "text": [
        "<matplotlib.figure.Figure at 0x9c77208>"
       ]
      },
      {
       "metadata": {},
       "output_type": "display_data",
       "png": "[encoded data removed]",
       "text": [
        "<matplotlib.figure.Figure at 0x9fcec50>"
       ]
      }
     ],
     "prompt_number": 4
    },
    {
     "cell_type": "markdown",
     "metadata": {},
     "source": [
      "This plot shows the index during the two partitioned periods. Just looking the two periods does not give many intuitive ideas whether they are different in some senses, for example, the second period might be more volatile than the other. I only can say from this plot that the economic cycle are going to be short. In other words, the economy may encounter crisis and bubble more frequently than before. We are now using some time series data for further analysis."
     ]
    },
    {
     "cell_type": "markdown",
     "metadata": {},
     "source": [
      "As we can see form the plot of stock prices, price movement doesn't have an apparent pattern. The index really screwed up and hit the buttom during the 2008 crisis. After that, it started to go up again. I almost climbed over 1400 near the starting point but still carried with big fluctuations. The variance of the stock price seems more volatile for post-event."
     ]
    },
    {
     "cell_type": "markdown",
     "metadata": {},
     "source": [
      "## Implementation of Autoregressive Integrated Moving Average Model"
     ]
    },
    {
     "cell_type": "markdown",
     "metadata": {},
     "source": [
      "We want, at this step, to get a general view and better understanding of pre-event and post-event time series, to see if they are indeed of different nature. We intend to implement the Autoregressive Integrated Moving Average Model. In this way, not only could we get specific formulas describing each of the time series that serve as an accurate foundation for our argument, and it would allow us to do some predictions and simulations on each data set. To simplify, we take just one level of difference, d=1, in ARIMA Model."
     ]
    },
    {
     "cell_type": "code",
     "collapsed": false,
     "input": [
      "import statsmodels.api as sm\n",
      "from statsmodels import *\n",
      "modelpre = tsa.arima_model.ARIMA(preev, [1, 0, 1],freq='M').fit()\n",
      "modelpost = tsa.arima_model.ARIMA(postev, [1, 1, 1],freq='M').fit()"
     ],
     "language": "python",
     "metadata": {},
     "outputs": [],
     "prompt_number": 14
    },
    {
     "cell_type": "code",
     "collapsed": false,
     "input": [
      "modelpre.summary() # Pre-event model summary"
     ],
     "language": "python",
     "metadata": {},
     "outputs": [
      {
       "html": [
        "<table class=\"simpletable\">\n",
        "<caption>ARMA Model Results</caption>\n",
        "<tr>\n",
        "  <th>Dep. Variable:</th>         <td>y</td>        <th>  No. Observations:  </th>   <td>1796</td>   \n",
        "</tr>\n",
        "<tr>\n",
        "  <th>Model:</th>            <td>ARMA(1, 1)</td>    <th>  Log Likelihood     </th> <td>-7004.452</td>\n",
        "</tr>\n",
        "<tr>\n",
        "  <th>Method:</th>             <td>css-mle</td>     <th>  S.D. of innovations</th>  <td>11.936</td>  \n",
        "</tr>\n",
        "<tr>\n",
        "  <th>Date:</th>          <td>Thu, 17 Apr 2014</td> <th>  AIC                </th> <td>14016.904</td>\n",
        "</tr>\n",
        "<tr>\n",
        "  <th>Time:</th>              <td>14:13:03</td>     <th>  BIC                </th> <td>14038.877</td>\n",
        "</tr>\n",
        "<tr>\n",
        "  <th>Sample:</th>                <td>0</td>        <th>  HQIC               </th> <td>14025.016</td>\n",
        "</tr>\n",
        "<tr>\n",
        "  <th></th>                       <td> </td>        <th>                     </th>     <td> </td>    \n",
        "</tr>\n",
        "</table>\n",
        "<table class=\"simpletable\">\n",
        "<tr>\n",
        "     <td></td>        <th>coef</th>     <th>std err</th>      <th>z</th>      <th>P>|z|</th> <th>[95.0% Conf. Int.]</th> \n",
        "</tr>\n",
        "<tr>\n",
        "  <th>const</th>   <td> 1292.3640</td> <td>  132.912</td> <td>    9.723</td> <td> 0.000</td> <td> 1031.860  1552.868</td>\n",
        "</tr>\n",
        "<tr>\n",
        "  <th>ar.L1.y</th> <td>    0.9983</td> <td>    0.001</td> <td>  812.231</td> <td> 0.000</td> <td>    0.996     1.001</td>\n",
        "</tr>\n",
        "<tr>\n",
        "  <th>ma.L1.y</th> <td>   -0.0424</td> <td>    0.025</td> <td>   -1.693</td> <td> 0.091</td> <td>   -0.092     0.007</td>\n",
        "</tr>\n",
        "</table>\n",
        "<table class=\"simpletable\">\n",
        "<caption>Roots</caption>\n",
        "<tr>\n",
        "    <td></td>   <th>           Real</th> <th>         Imaginary</th> <th>         Modulus</th> <th>        Frequency</th>\n",
        "</tr>\n",
        "<tr>\n",
        "  <th>AR.1</th>               1.0017                    +0.0000j                    1.0017                    0.0000     \n",
        "</tr>\n",
        "<tr>\n",
        "  <th>MA.1</th>              23.5633                    +0.0000j                   23.5633                    0.0000     \n",
        "</tr>\n",
        "</table>"
       ],
       "metadata": {},
       "output_type": "pyout",
       "prompt_number": 15,
       "text": [
        "<class 'statsmodels.iolib.summary.Summary'>\n",
        "\"\"\"\n",
        "                              ARMA Model Results                              \n",
        "==============================================================================\n",
        "Dep. Variable:                      y   No. Observations:                 1796\n",
        "Model:                     ARMA(1, 1)   Log Likelihood               -7004.452\n",
        "Method:                       css-mle   S.D. of innovations             11.936\n",
        "Date:                Thu, 17 Apr 2014   AIC                          14016.904\n",
        "Time:                        14:13:03   BIC                          14038.877\n",
        "Sample:                             0   HQIC                         14025.016\n",
        "                                                                              \n",
        "==============================================================================\n",
        "                 coef    std err          z      P>|z|      [95.0% Conf. Int.]\n",
        "------------------------------------------------------------------------------\n",
        "const       1292.3640    132.912      9.723      0.000      1031.860  1552.868\n",
        "ar.L1.y        0.9983      0.001    812.231      0.000         0.996     1.001\n",
        "ma.L1.y       -0.0424      0.025     -1.693      0.091        -0.092     0.007\n",
        "                                    Roots                                    \n",
        "=============================================================================\n",
        "                 Real           Imaginary           Modulus         Frequency\n",
        "-----------------------------------------------------------------------------\n",
        "AR.1            1.0017           +0.0000j            1.0017            0.0000\n",
        "MA.1           23.5633           +0.0000j           23.5633            0.0000\n",
        "-----------------------------------------------------------------------------\n",
        "\"\"\""
       ]
      }
     ],
     "prompt_number": 15
    },
    {
     "cell_type": "code",
     "collapsed": false,
     "input": [
      "modelpost.summary() #Post-event model summary"
     ],
     "language": "python",
     "metadata": {},
     "outputs": [
      {
       "html": [
        "<table class=\"simpletable\">\n",
        "<caption>ARIMA Model Results</caption>\n",
        "<tr>\n",
        "  <th>Dep. Variable:</th>        <td>D.y</td>       <th>  No. Observations:  </th>    <td>936</td>   \n",
        "</tr>\n",
        "<tr>\n",
        "  <th>Model:</th>          <td>ARIMA(1, 1, 1)</td>  <th>  Log Likelihood     </th> <td>-4044.155</td>\n",
        "</tr>\n",
        "<tr>\n",
        "  <th>Method:</th>             <td>css-mle</td>     <th>  S.D. of innovations</th>  <td>18.206</td>  \n",
        "</tr>\n",
        "<tr>\n",
        "  <th>Date:</th>          <td>Thu, 17 Apr 2014</td> <th>  AIC                </th> <td>8096.310</td> \n",
        "</tr>\n",
        "<tr>\n",
        "  <th>Time:</th>              <td>14:13:05</td>     <th>  BIC                </th> <td>8115.677</td> \n",
        "</tr>\n",
        "<tr>\n",
        "  <th>Sample:</th>                <td>1</td>        <th>  HQIC               </th> <td>8103.695</td> \n",
        "</tr>\n",
        "<tr>\n",
        "  <th></th>                       <td> </td>        <th>                     </th>     <td> </td>    \n",
        "</tr>\n",
        "</table>\n",
        "<table class=\"simpletable\">\n",
        "<tr>\n",
        "      <td></td>         <th>coef</th>     <th>std err</th>      <th>z</th>      <th>P>|z|</th> <th>[95.0% Conf. Int.]</th> \n",
        "</tr>\n",
        "<tr>\n",
        "  <th>const</th>     <td>   -0.0903</td> <td>    0.473</td> <td>   -0.191</td> <td> 0.849</td> <td>   -1.016     0.836</td>\n",
        "</tr>\n",
        "<tr>\n",
        "  <th>ar.L1.D.y</th> <td>    0.2611</td> <td>    0.153</td> <td>    1.712</td> <td> 0.087</td> <td>   -0.038     0.560</td>\n",
        "</tr>\n",
        "<tr>\n",
        "  <th>ma.L1.D.y</th> <td>   -0.4135</td> <td>    0.143</td> <td>   -2.893</td> <td> 0.004</td> <td>   -0.694    -0.133</td>\n",
        "</tr>\n",
        "</table>\n",
        "<table class=\"simpletable\">\n",
        "<caption>Roots</caption>\n",
        "<tr>\n",
        "    <td></td>   <th>           Real</th> <th>         Imaginary</th> <th>         Modulus</th> <th>        Frequency</th>\n",
        "</tr>\n",
        "<tr>\n",
        "  <th>AR.1</th>               3.8293                    +0.0000j                    3.8293                    0.0000     \n",
        "</tr>\n",
        "<tr>\n",
        "  <th>MA.1</th>               2.4186                    +0.0000j                    2.4186                    0.0000     \n",
        "</tr>\n",
        "</table>"
       ],
       "metadata": {},
       "output_type": "pyout",
       "prompt_number": 16,
       "text": [
        "<class 'statsmodels.iolib.summary.Summary'>\n",
        "\"\"\"\n",
        "                             ARIMA Model Results                              \n",
        "==============================================================================\n",
        "Dep. Variable:                    D.y   No. Observations:                  936\n",
        "Model:                 ARIMA(1, 1, 1)   Log Likelihood               -4044.155\n",
        "Method:                       css-mle   S.D. of innovations             18.206\n",
        "Date:                Thu, 17 Apr 2014   AIC                           8096.310\n",
        "Time:                        14:13:05   BIC                           8115.677\n",
        "Sample:                             1   HQIC                          8103.695\n",
        "                                                                              \n",
        "==============================================================================\n",
        "                 coef    std err          z      P>|z|      [95.0% Conf. Int.]\n",
        "------------------------------------------------------------------------------\n",
        "const         -0.0903      0.473     -0.191      0.849        -1.016     0.836\n",
        "ar.L1.D.y      0.2611      0.153      1.712      0.087        -0.038     0.560\n",
        "ma.L1.D.y     -0.4135      0.143     -2.893      0.004        -0.694    -0.133\n",
        "                                    Roots                                    \n",
        "=============================================================================\n",
        "                 Real           Imaginary           Modulus         Frequency\n",
        "-----------------------------------------------------------------------------\n",
        "AR.1            3.8293           +0.0000j            3.8293            0.0000\n",
        "MA.1            2.4186           +0.0000j            2.4186            0.0000\n",
        "-----------------------------------------------------------------------------\n",
        "\"\"\""
       ]
      }
     ],
     "prompt_number": 16
    },
    {
     "cell_type": "markdown",
     "metadata": {},
     "source": [
      "Actually, python has not enough packages to analyze time series data.\n",
      "So we are using rpy2 to use some useful packages in R."
     ]
    },
    {
     "cell_type": "code",
     "collapsed": false,
     "input": [
      "import rpy2 as rpy2\n",
      "%load_ext rmagic"
     ],
     "language": "python",
     "metadata": {},
     "outputs": [
      {
       "output_type": "stream",
       "stream": "stdout",
       "text": [
        "The rmagic extension is already loaded. To reload it, use:\n",
        "  %reload_ext rmagic\n"
       ]
      }
     ],
     "prompt_number": 20
    },
    {
     "cell_type": "code",
     "collapsed": false,
     "input": [
      "%%R\n",
      "install.packages(\"forecasting\")"
     ],
     "language": "python",
     "metadata": {},
     "outputs": [
      {
       "metadata": {},
       "output_type": "display_data",
       "text": [
        "Installing package into '/accounts/grad/changhyunahn/R/x86_64-pc-linux-gnu-library/3.0'\n",
        "(as 'lib' is unspecified)\n"
       ]
      }
     ],
     "prompt_number": 22
    },
    {
     "cell_type": "code",
     "collapsed": false,
     "input": [
      "%%R\n",
      "library(\"forecast\")"
     ],
     "language": "python",
     "metadata": {},
     "outputs": [
      {
       "output_type": "stream",
       "stream": "stdout",
       "text": [
        "Error in library(\"forecast\") : there is no package called 'forecast'\n",
        "In addition: Warning message:\n",
        "package 'forecasting' is not available (for R version 3.0.3)\n",
        "Error in library(\"forecast\") : there is no package called 'forecast'\n"
       ]
      }
     ],
     "prompt_number": 23
    },
    {
     "cell_type": "markdown",
     "metadata": {},
     "source": [
      "With Wt = Yt \u2212 Yt \u2212 1, we have Wt = \u03c61Wt\u20131 +\u03c62Wt\u20132 +...+\u03c6pWt\u2013p +et \u2013\u03b81et\u20131 \u2013\u03b82et\u20132 \u2013 ... \u2013 \u03b8qet \u2013 q\n",
      "A list with component ar and/or ma giving the AR and MA coefficients respectively. Optionally a component order can be used. An empty list gives an ARIMA(0, 0, 0) model, that is white noise.\n",
      "n, length of output series, before un-differencing. A strictly positive integer.\n",
      "\n",
      "The ARIMA result tables are very detailed. The pre-event time series is fitted with ARMA(1,1) model while ARIMA(1,1,1) is chosen for the post-event time series. Each coefficient in both model has a very small standard deviation error and p-value. We can see from the criteria that the models fit pretty well. And since the resulting models are very different, we can conclude that those two are indeed not similar time series."
     ]
    },
    {
     "cell_type": "markdown",
     "metadata": {},
     "source": [
      "##Forecast and Simulation"
     ]
    },
    {
     "cell_type": "markdown",
     "metadata": {},
     "source": [
      "The data sets in pre-event and post-event are both of limited sizes. With the specific formulas obtained from the ARIMA model results, we want to use the forecast and simulation functions to get a general picture of the volatility difference between the two events in a larger background of data."
     ]
    },
    {
     "cell_type": "code",
     "collapsed": false,
     "input": [
      "%%R -o presim\n",
      "presim <- as.vector(arima.sim(list(order = c(1,0,1), ar = 0.9983, ma = -0.0424), n = 200))"
     ],
     "language": "python",
     "metadata": {},
     "outputs": [],
     "prompt_number": 24
    },
    {
     "cell_type": "code",
     "collapsed": false,
     "input": [
      "plot(range(len(presim)), presim)"
     ],
     "language": "python",
     "metadata": {},
     "outputs": [
      {
       "metadata": {},
       "output_type": "pyout",
       "prompt_number": 25,
       "text": [
        "[<matplotlib.lines.Line2D at 0x8d178d0>]"
       ]
      },
      {
       "metadata": {},
       "output_type": "display_data",
       "png": "[encoded data removed]",
       "text": [
        "<matplotlib.figure.Figure at 0x6cf3b10>"
       ]
      }
     ],
     "prompt_number": 25
    },
    {
     "cell_type": "code",
     "collapsed": false,
     "input": [
      "%%R -o postsim\n",
      "postsim <- as.vector(arima.sim(list(order = c(1,1,1), ar = 0.2611, ma = -0.4135), n = 200))"
     ],
     "language": "python",
     "metadata": {},
     "outputs": [],
     "prompt_number": 26
    },
    {
     "cell_type": "code",
     "collapsed": false,
     "input": [
      "plot(range(len(postsim)), postsim)"
     ],
     "language": "python",
     "metadata": {},
     "outputs": [
      {
       "metadata": {},
       "output_type": "pyout",
       "prompt_number": 27,
       "text": [
        "[<matplotlib.lines.Line2D at 0x8d81750>]"
       ]
      },
      {
       "metadata": {},
       "output_type": "display_data",
       "png": "[encoded data removed]",
       "text": [
        "<matplotlib.figure.Figure at 0x1a52db50>"
       ]
      }
     ],
     "prompt_number": 27
    },
    {
     "cell_type": "markdown",
     "metadata": {},
     "source": [
      "ARMA model in R environment from pre event data is made into the object arimapre"
     ]
    },
    {
     "cell_type": "code",
     "collapsed": false,
     "input": [
      "%%R -i preev\n",
      "library(stats)\n",
      "arimapre <- arima(ts(preev),c(1,0,1))\n",
      "print(arimapre)"
     ],
     "language": "python",
     "metadata": {},
     "outputs": [
      {
       "metadata": {},
       "output_type": "display_data",
       "text": [
        "\n",
        "Call:\n",
        "arima(x = ts(preev), order = c(1, 0, 1))\n",
        "\n",
        "Coefficients:\n",
        "         ar1      ma1  intercept\n",
        "      0.9985  -0.0423  1185.8297\n",
        "s.e.  0.0018   0.0251   187.6526\n",
        "\n",
        "sigma^2 estimated as 142.5:  log likelihood = -7004.82,  aic = 14017.65\n"
       ]
      }
     ],
     "prompt_number": 29
    },
    {
     "cell_type": "markdown",
     "metadata": {},
     "source": [
      "ARIMA model in R environment from post event data is made into the object arimapost"
     ]
    },
    {
     "cell_type": "code",
     "collapsed": false,
     "input": [
      "%%R -i postev\n",
      "arimapost <- arima(ts(postev),c(1,1,1))\n",
      "print(arimapost)"
     ],
     "language": "python",
     "metadata": {},
     "outputs": [
      {
       "metadata": {},
       "output_type": "display_data",
       "text": [
        "\n",
        "Call:\n",
        "arima(x = ts(postev), order = c(1, 1, 1))\n",
        "\n",
        "Coefficients:\n",
        "         ar1      ma1\n",
        "      0.2610  -0.4133\n",
        "s.e.  0.1525   0.1429\n",
        "\n",
        "sigma^2 estimated as 331.5:  log likelihood = -4044.17,  aic = 8094.35\n"
       ]
      }
     ],
     "prompt_number": 30
    },
    {
     "cell_type": "markdown",
     "metadata": {},
     "source": [
      "Here are plots to forecast from the two models"
     ]
    },
    {
     "cell_type": "code",
     "collapsed": false,
     "input": [
      "%%R\n",
      "library(\"forecast\")\n",
      "plot(forecast(object=arimapre, h=1000))\n",
      "plot(forecast(object=arimapost, h=1000))"
     ],
     "language": "python",
     "metadata": {},
     "outputs": [
      {
       "output_type": "stream",
       "stream": "stdout",
       "text": [
        "Error in library(\"forecast\") : there is no package called 'forecast'\n"
       ]
      }
     ],
     "prompt_number": 33
    },
    {
     "cell_type": "markdown",
     "metadata": {},
     "source": [
      "The forecast pictures clearly show an obvious difference in the standard deviation of two events. The two forecast graphs are not in the same unit. Pre-events\u2019 s standard errors is around 250 scale while post-event\u2019s standard deviation is around 500. The simulation plots also present post-event with larger volatility."
     ]
    },
    {
     "cell_type": "markdown",
     "metadata": {},
     "source": [
      "##The Implementation of Generalized AutoRegressive Conditional Heteroskedasticity Model"
     ]
    },
    {
     "cell_type": "markdown",
     "metadata": {},
     "source": [
      "As studies show, the asymmetric nature of information and pricing, the heteroscedasticity, suggests the use of nonlinear time series structures to model the attitude of investors toward risk and ex- pected return. For example, Bera and Higgins (1993, p.315) remarked that \u201ca major contribution of the ARCH literature is the finding that apparent changes in the volatility of economic time series may be predictable and result from a specific type of nonlinear dependence rather than exogenous structural changes in variables.\u201d  Here, in the case of financial data, large and small errors tend to occur in clusters, i.e., large returns are followed by more large returns, and small returns by more small returns. This character of volatility clustering will be show in the section of log return plots. This suggests that returns are serially correlated.\n",
      "\n",
      "To address the previous observed dynamic pattern volatility change, we introduce the generalized autoregressive conditional heteroskedasticity  model. Shocks are assumed to be random, GARCH uses a nonlinear function relating the observed time series and the underlying shocks. Since in GARCH model conditional variance is dependent on its own previous lags, the volatility clustering shown by the previous plots would be characterized. The following resulting functions identify the different nature of the events\u2019 volatilities."
     ]
    },
    {
     "cell_type": "markdown",
     "metadata": {},
     "source": [
      "Summary statistics from GARCH model\n",
      "This shows volatility from pre event data"
     ]
    },
    {
     "cell_type": "code",
     "collapsed": false,
     "input": [
      "%%R\n",
      "install.packages(\"tseries\")\n",
      "library(\"tseries\")\n",
      "dat1 <- diff(log(preev))\n",
      "dat1 <- ts(dat1)\n",
      "dat1.garch <- garch(dat1)\n",
      "summary(dat1.garch)\n",
      "plot(dat1.garch) "
     ],
     "language": "python",
     "metadata": {},
     "outputs": [
      {
       "output_type": "stream",
       "stream": "stdout",
       "text": [
        "Installing package into '/accounts/grad/changhyunahn/R/x86_64-pc-linux-gnu-library/3.0'\n",
        "(as 'lib' is unspecified)\n",
        "also installing the dependency 'zoo'\n",
        "\n",
        "trying URL 'http://cran.rstudio.com/src/contrib/zoo_1.7-11.tar.gz'\n",
        "Content type 'application/x-gzip' length 819242 bytes (800 Kb)\n",
        "opened URL\n",
        "==================================================\n",
        "downloaded 800 Kb\n",
        "\n",
        "trying URL 'http://cran.rstudio.com/src/contrib/tseries_0.10-32.tar.gz'\n",
        "Content type 'application/x-gzip' length 163043 bytes (159 Kb)\n",
        "opened URL\n",
        "==================================================\n",
        "downloaded 159 Kb\n",
        "\n",
        "\n",
        "The downloaded source packages are in\n",
        "\t'/tmp/RtmpE0BwJ4/downloaded_packages'\n",
        "Error in library(\"tseries\") : there is no package called 'tseries'\n",
        "In addition: Warning messages:\n",
        "1: In install.packages(\"tseries\") :\n",
        "  installation of package 'zoo' had non-zero exit status\n",
        "2: In install.packages(\"tseries\") :\n",
        "  installation of package 'tseries' had non-zero exit status\n",
        "Error in library(\"tseries\") : there is no package called 'tseries'\n"
       ]
      }
     ],
     "prompt_number": 36
    },
    {
     "cell_type": "markdown",
     "metadata": {},
     "source": [
      "Summary statistics from GARCH model\n",
      "This shows volatility from pre event data"
     ]
    },
    {
     "cell_type": "code",
     "collapsed": false,
     "input": [
      "%%R\n",
      "dat2 <- diff(log(postev))\n",
      "dat2 <- ts(dat2)\n",
      "dat2.garch <- garch(dat2)\n",
      "summary(dat2.garch)    \n",
      "plot(dat2.garch) \n"
     ],
     "language": "python",
     "metadata": {},
     "outputs": []
    },
    {
     "cell_type": "markdown",
     "metadata": {},
     "source": [
      "##Log Returns and Residuals"
     ]
    },
    {
     "cell_type": "markdown",
     "metadata": {},
     "source": [
      "Since there're no observable mathematical patterns in the S&P500 daily price data, we use the first degree of difference on the price. i.e. returns. And then transform it into log returns to distinguish between series values being uncorrelated and series values being independent. Because if series values are truly independent from each other, then nonlinear instantaneous transformations such as taking logarithms preserves independence. However, those kind of transformation could alter the characteristic of correlation, as correlation, by its definition, is only a measure of linear dependence. \n",
      "\n",
      "The first figures in pre-event and post-event illustrate how log returns and residuals of S&P500 daily price evolve through time. As we can see from the plot log returns give us a more stabilized and a clearer view of the variance over the time since the plot generally moves around a horizontal line.  \n",
      "\n",
      "Now we take a closer look to observe the volatility character of the shown plots. The post event plots exhibit larger fluctuations than the pre event ones. Also, we observe from the plots of both event that volatility clustering exists, i.e. large changes tend to be followed by large charges and small changes tend to be followed by small changes, of either sign. This is also a \u201cstylized fact\u201d of many economic and financial variables. In other words, volatility clustering means there are times stock price is much more volatile than other times. Thus, the conditional variance of the time series varies over time, that is, there exists a dynamical pattern in the volatility of a time series."
     ]
    },
    {
     "cell_type": "markdown",
     "metadata": {},
     "source": [
      "##Normality of the Data"
     ]
    },
    {
     "cell_type": "markdown",
     "metadata": {},
     "source": [
      "Since the distributions of log returns and squared residuals of the two-time periods, as shown in the histogram in the second part of the figures, are all bell-shaped, the transformed data could be normally distributed. To test the normality of transformed data. We get the quatitiles of normal distribution plot through python."
     ]
    },
    {
     "cell_type": "markdown",
     "metadata": {},
     "source": [
      "##The Quantiles of Normal Distribution Plot"
     ]
    },
    {
     "cell_type": "markdown",
     "metadata": {},
     "source": [
      "The third part of the figures presents the quantitiles of normal distribution plots of the data. If the data set is perfectly normal the points should all fall on the 45 degree y=x line.\n",
      "\n",
      "The linearity of the pouts suggests the log returns and residuals from both event are normally distributed. The QQ plot of log returns suggests that its distribution of post event have a thicker tail than that of a normal distribution and may be somewhat skewed to the right."
     ]
    },
    {
     "cell_type": "markdown",
     "metadata": {},
     "source": [
      "##Autocorrelation Function Plot"
     ]
    },
    {
     "cell_type": "markdown",
     "metadata": {},
     "source": [
      "Perform the autocorrelation function on squared log returns. Compare the plot of autocorrelation function from log returns of pre and post event, we can see that the ACF values of both event keep falling far out of the range of two standard deviations away even after long lags, that is the ACF values are not tailing off gradually. So the time series fit AR Model. And almost all the ACF values from post event are around or larger than 0.2 while more than half of ACF values from pre event are smaller than 0.2. \n",
      "\n",
      "As for autocorrelation function plot from residuals of pre and post event, the ACF values of both event fall into the range of two standard deviations gradually as the lag becomes large, that is the ACF values tail off gradually. So the time series fit MA Model. And ACF values from post event are also generally larger than pre event.\n",
      "\n",
      "The time series from the post event are more autocorrelated than pre event. The ACF results also collaborate with our point that the post-event are more volatile than the previous one, i.e. the effect of financial crisis is persistent"
     ]
    },
    {
     "cell_type": "markdown",
     "metadata": {},
     "source": [
      "# <center> Weekend Effect"
     ]
    },
    {
     "cell_type": "markdown",
     "metadata": {},
     "source": [
      "# Introduction\n",
      "        \n",
      "        The Weekend Effect is defined as, \"A phenomenon in financial markets in which stock returns on Mondays are often significantly lower than those of the immediate preceding Fridays.\" Some theories that explain the effect attribute the tendency for companies to release bad news on Friday after the markets close to depressed stock prices on Monday. However, the others do not acknowledge such weekly tendencies and stated that it may be a pure stochastic event.\n",
      "        \n",
      "        In this module, we intend to employ a series of conventional statistical methods to analyze whether or not the stock market, resembled by the SP500 Index, exhibited a tendency against the weekend evenings. Our intention is to change minds of the traders who believe in the Weekend Effect.\n",
      "        \n",
      "        To begin, we set the workspace, as well as retrive data locally stored in the work space. Immediately next, we want to split the historical SP500 data by the days of the week. Hence, append a new column in the SP500 dataframe, and denote it \"Day.\""
     ]
    },
    {
     "cell_type": "code",
     "collapsed": false,
     "input": [
      "import os\n",
      "print os.getcwd()\n",
      "#os.chdir(\"/Users/edwsurewin/Dropbox/Berkeley MA/222/STAT222-SP500\") # or elsewhere at which \"daily.csv\" is stored"
     ],
     "language": "python",
     "metadata": {},
     "outputs": []
    },
    {
     "cell_type": "code",
     "collapsed": false,
     "input": [
      "import pandas as pd\n",
      "\n",
      "SP500 = pd.read_csv(\"daily.csv\")\n",
      "SP500['Day'] = None # create a Day of the Week column\n",
      "print(SP500.head())"
     ],
     "language": "python",
     "metadata": {},
     "outputs": []
    },
    {
     "cell_type": "markdown",
     "metadata": {},
     "source": [
      "# Quantity of interest\n",
      "\n",
      "        First of all, we proceed by defining a quantity of interest. Since we are interested in the overnight changes, we are interested in the overnight returns by days of the week. Denote,\n",
      "                                     \n",
      "<center> overnight return $R_{today}= \\frac{Next-Trading-Day-Opening}{Today's-Adjusted-Close}$."
     ]
    },
    {
     "cell_type": "markdown",
     "metadata": {},
     "source": [
      "        Therefore, during any given ordinary week without holidays (i.e. non-trading days), we have five overnight returns. Next, we defined a function that automates computing the rate of return for any two consecutive trading days. Then, we employed a built-in package in python, which calculates the \"day of the week\" indicator for each row observation. \n",
      "        \n",
      "        Once we had the returns computed together with the indicators, we construct five dynamic lists to store Monday, Tuesday, Wednesday, Thursday, and Friday overnight returns, respectively."
     ]
    },
    {
     "cell_type": "code",
     "collapsed": false,
     "input": [
      "# print(SP500.tail()) = 0 to 16146\n",
      "# len(SP500['Day']) = 16147`\n",
      "\n",
      "rate = [None]*(len(SP500['Day'])-1)\n",
      "\n",
      "#create an array and fill in \n",
      "def compute_rate(SP500, rate):\n",
      "    for i in range(0, len(SP500['Day'])-1):\n",
      "        rate[i] = SP500['Open'][i]/SP500['Adj Close'][i+1]\n",
      "    return rate\n",
      "\n",
      "rate = compute_rate(SP500, rate)\n",
      "\n",
      "# first 5 items in open/close rate list\n",
      "print(rate[0:5]) "
     ],
     "language": "python",
     "metadata": {},
     "outputs": []
    },
    {
     "cell_type": "code",
     "collapsed": false,
     "input": [
      "import datetime\n",
      "\n",
      "# fill out the days of the weeks\n",
      "# 1: Monday, 2: Tuesday, ..., 5: Friday\n",
      "\n",
      "for i in range(0, len(SP500['Day'])):   \n",
      "    SP500['Day'][i] = datetime.date(int(SP500['Date'][i][0:4]), int(SP500['Date'][i][5:7]), int(SP500['Date'][i][8:10])).isoweekday()\n",
      "\n",
      "print(SP500.head())"
     ],
     "language": "python",
     "metadata": {},
     "outputs": []
    },
    {
     "cell_type": "code",
     "collapsed": false,
     "input": [
      "# create dynamic lists to store overnight returns of corresponding days of the week\n",
      "# control group is Friday, whereas experiment group could be any other day(s) of the week\n",
      "\n",
      "# e.g. a Monday's overnight is defined to be \n",
      "#                     (the quotient of) Tuesday Opening / Monday's Adj Close\n",
      "\n",
      "Monday = []       \n",
      "Tuesday = []      \n",
      "Wednesday = []    \n",
      "Thursday = []     \n",
      "Friday = []       \n",
      "\n",
      "for i in range(1, len(SP500['Day'])):\n",
      "    if SP500['Day'][i] == 1:\n",
      "        Monday.append(rate[i-1])\n",
      "    else:\n",
      "        if SP500['Day'][i] == 2:\n",
      "            Tuesday.append(rate[i-1])\n",
      "        else:\n",
      "            if SP500['Day'][i] == 3:\n",
      "                Wednesday.append(rate[i-1])\n",
      "            else:\n",
      "                if SP500['Day'][i] == 4:\n",
      "                    Thursday.append(rate[i-1])\n",
      "                else:\n",
      "                    if SP500['Day'][i] == 5:\n",
      "                        Friday.append(rate[i-1])   \n",
      "# recent 10 years\n",
      "Monday = Monday[0:520]      \n",
      "Tuesday = Tuesday[0:520]      \n",
      "Wednesday = Wednesday[0:520]     \n",
      "Thursday = Thursday[0:520]       \n",
      "Friday = Friday[0:520]     \n",
      "                \n",
      "# for exmaple, Friday vs. NonFriday\n",
      "NonFri = Monday + Tuesday + Wednesday + Thursday"
     ],
     "language": "python",
     "metadata": {},
     "outputs": []
    },
    {
     "cell_type": "markdown",
     "metadata": {},
     "source": [
      "# Quantity of Interest Plots\n",
      "\n",
      "        Before moving on, we subset the first 520 elements in each list; therefore, we have roughly the recent 10-year data to analyze upon. The reason of subsetting is that the fundamentals of stock market might have changed substantially over the last decades, and historical data from the past could tell little about the current dynamics in today's market. We want to rule out the noises due to a different financial regulation settings happenend in the past, and want to solely pinpoint what's happened recently. \n",
      "        \n",
      "        With the data cleaned and sort, we would like to have a visual impression how the data look like, and whether we could draw any immediate preliminary conclusion from the pictures. We plotted the following 4 pictures, with each of the Friday group and another day of the week. Notice that the Friday group is the control group, and 4 other groups are the treatment groups; in other words, we apply another day of the week and try to observe possiblity of significance improvements.\n",
      "        \n",
      "        On the x-axis, we have \"chronological number of weeks until March 6th, 2014\", when we lastly accessed the public data from Yahoo Faince. On the y-axis, we have the quantitiy of interest being plotted, i.e. the overnight rates of return. The red dots are of the Friday group, the black dots are of the respective treatement groups. We attempt to answer these questions:\n",
      "        \n",
      "            1) Are all the red dots systematically lower than the black dots?\n",
      "            2) If so, which picture shows the most apparent difference?\n",
      "            3) Any patterns?\n",
      "            \n",
      "        To answer these questions, we take a closer look at each picture. It seems that the answers for the first two questions are negative, while we can say something about the 3). It appears that we experienced a period of volatilities during Week 100 to Week 300; if we convert the dates back to calendar, we will notice that that was the period we were in the financial meltdown commercing 2007. Hence, the pictures nevertheless showed we caputured the data correctly.\n",
      "        \n",
      "        Yet, we are not able to make any statements with regards to the research objective. "
     ]
    },
    {
     "cell_type": "code",
     "collapsed": false,
     "input": [
      "%pylab inline\n",
      "\n",
      "# overnight return: Monday vs. Friday\n",
      "# X-axis is timeline in chronological order\n",
      "\n",
      "plt.plot(Monday, 'ko', label='Monday')\n",
      "plt.hold(True)\n",
      "plt.plot(Friday, 'ro', label='Friday', alpha=0.7)\n",
      "plt.legend(loc=0)\n",
      "plt.title('Overnight Return Comparison, Fri vs. Mon')\n",
      "plt.ylabel('Overnight Return')\n",
      "plt.xlabel('Chronological # of Weeks until Mar 06 2014')"
     ],
     "language": "python",
     "metadata": {},
     "outputs": []
    },
    {
     "cell_type": "code",
     "collapsed": false,
     "input": [
      "%pylab inline\n",
      "\n",
      "# overnight return: Tuesday vs. Friday\n",
      "# X-axis is timeline in chronological order\n",
      "\n",
      "plt.plot(Tuesday, 'ko', label='Tuesday')\n",
      "plt.hold(True)\n",
      "plt.plot(Friday, 'ro', label='Friday', alpha=0.7)\n",
      "plt.title('Overnight Return Comparison, Fri vs. Tue')\n",
      "plt.ylabel('Overnight Return')\n",
      "plt.xlabel('Chronological # of Weeks until Mar 06 2014')\n",
      "plt.legend(loc=0)"
     ],
     "language": "python",
     "metadata": {},
     "outputs": []
    },
    {
     "cell_type": "code",
     "collapsed": false,
     "input": [
      "%pylab inline\n",
      "\n",
      "# overnight return: Wednesday vs. Friday\n",
      "# X-axis is timeline in chronological order\n",
      "\n",
      "plt.plot(Wednesday, 'ko', label='Wednesday')\n",
      "plt.hold(True)\n",
      "plt.plot(Friday, 'ro', label='Friday', alpha=0.7)\n",
      "plt.title('Overnight Return Comparison, Fri vs. Wed')\n",
      "plt.ylabel('Overnight Return')\n",
      "plt.xlabel('Chronological # of Weeks until Mar 06 2014')\n",
      "plt.legend(loc=0)"
     ],
     "language": "python",
     "metadata": {},
     "outputs": []
    },
    {
     "cell_type": "code",
     "collapsed": false,
     "input": [
      "%pylab inline\n",
      "\n",
      "# overnight return: Thursday vs. Friday\n",
      "# X-axis is timeline in chronological order\n",
      "\n",
      "plt.plot(Thursday, 'ko', label='Thursday')\n",
      "plt.hold(True)\n",
      "plt.plot(Friday, 'ro', label='Friday', alpha=0.7)\n",
      "plt.title('Overnight Return Comparison, Fri vs. Thurs')\n",
      "plt.ylabel('Overnight Return')\n",
      "plt.xlabel('Chronological # of Weeks until Mar 06 2014')\n",
      "plt.legend(loc=0)"
     ],
     "language": "python",
     "metadata": {},
     "outputs": []
    },
    {
     "cell_type": "markdown",
     "metadata": {},
     "source": [
      "        Naturally, we are going to empower our research by performing a series of statistical tests, wherever applicable. Notice that most tests have a distinct set of requirements under which the data have to suffice. For the time being, we are willing to assume all required, although that could lead us to an aggressive concludsion."
     ]
    },
    {
     "cell_type": "markdown",
     "metadata": {},
     "source": [
      "# Mann\u2013Whitney U Test \n",
      "\n",
      "    More efficient than the T test in non-normal distribution, this test is said to embrace a very general formulation which assumes that:\n",
      "\n",
      "        1.\tAll the observations from both groups are independent of each other,\n",
      "        2.\tThe responses are ordinal (i.e. one can at least say, of any two observations, which is the greater),\n",
      "        3.\tThe distributions of both groups are equal under the null hypothesis, so that the probability of an observation from one population (X) exceeding an observation from the second population (Y) equals the probability of an observation from Y exceeding an observation from X. That is, there is a symmetry between populations with respect to probability of random drawing of a larger observation.\n",
      "        4.\tUnder the alternative hypothesis, the probability of an observation from one population (X) exceeding an observation from the second population (Y) (after exclusion of ties) is not equal to 0.5. The alternative may also be stated in terms of a one-sided test, for example: P(X\u00a0>\u00a0Y)\u00a0+\u00a00.5 P(X\u00a0=\u00a0Y) \u00a0is greater than\u00a00.5.\n",
      "    \n",
      "    Thus, null is mean(Friday) = mean(nonFriday), and inequality otherwise.\n"
     ]
    },
    {
     "cell_type": "code",
     "collapsed": false,
     "input": [
      "import scipy.stats as stats\n",
      "u, MW_p_value = stats.mannwhitneyu(Friday, NonFri)\n",
      "print(\"two-sample wilcoxon-test p-value is\", MW_p_value)\n",
      "\n",
      "# p_value < 0.01 => alternative hypothesis:\n",
      "# they don't have the same mean at the 1% significance level"
     ],
     "language": "python",
     "metadata": {},
     "outputs": []
    },
    {
     "cell_type": "markdown",
     "metadata": {},
     "source": [
      "# Paired T-test\n",
      "\n",
      "        The test assumes that the differences between pairs are normally distributed; one can use the histogram spreadsheet on that page to check the normality. The null hypothesis is that the mean difference between paired observations is zero. In other words,\n",
      "        \n",
      "        Null: mean(Friday) - mean(nonFriday) = 0, and\n",
      "        Alternative: Otherwise."
     ]
    },
    {
     "cell_type": "code",
     "collapsed": false,
     "input": [
      "AvgNon = [None]*len(Friday)\n",
      "for i in range(0, len(AvgNon)):\n",
      "    AvgNon[i] = (Monday[i]+Tuesday[i]+Wednesday[i]+Thursday[i])/4\n",
      "\n",
      "PT_diff = [None]*len(Friday)  \n",
      "for i in range(0, len(AvgNon)):\n",
      "    PT_diff[i] = Friday[i] - AvgNon[i]\n",
      "\n",
      "PT_tstats = (( mean(Friday) - mean(AvgNon) ) - 0 ) / ( std(PT_diff) * sqrt( len(Friday) - 1 ) )\n",
      "\n",
      "print(\"Matched Pair T Test yields t-stat\", PT_tstats)"
     ],
     "language": "python",
     "metadata": {},
     "outputs": []
    },
    {
     "cell_type": "code",
     "collapsed": false,
     "input": [
      "t_statistic, TSTAT_p_value = stats.ttest_ind(Friday, NonFri)\n",
      "print(\"similarly in two-sample t-test, p-value is\", TSTAT_p_value)"
     ],
     "language": "python",
     "metadata": {},
     "outputs": []
    },
    {
     "cell_type": "code",
     "collapsed": false,
     "input": [
      "print(\"Mean of Fridays is\", mean(Friday), \"and mean of NonFris is\", mean(NonFri))"
     ],
     "language": "python",
     "metadata": {},
     "outputs": []
    },
    {
     "cell_type": "markdown",
     "metadata": {},
     "source": [
      "# The Kruskal-Wallis H-test \n",
      "\n",
      "        This test exams the null hypothesis that the population median of all of the groups are equal. It is a non-parametric version of ANOVA. Therefore,\n",
      "        \n",
      "                \n",
      "        Null: medium(Friday) - medium(nonFriday) = 0, and\n",
      "        Alternative: Otherwise."
     ]
    },
    {
     "cell_type": "code",
     "collapsed": false,
     "input": [
      "u, ANOVA_p_value = stats.mstats.kruskalwallis(Friday, NonFri) # Chi-square degree of freedom 1\n",
      "print(\"one-way ANOVA Kruskal Wallis test p-value is\", ANOVA_p_value)"
     ],
     "language": "python",
     "metadata": {},
     "outputs": []
    },
    {
     "cell_type": "markdown",
     "metadata": {},
     "source": [
      "        With a p value smaller than 0.01, we are able to claim that the alternative hypothesis: The groups do not have the same median at the 1% significance level. As a hindsight remark, the Mann\u2013Whitney U Test and the Kruskal-Wallis H-test suffer from a limitation that, the Friday grouop might not be independent from the Non-friday group, especially given the data is time-series."
     ]
    },
    {
     "cell_type": "markdown",
     "metadata": {},
     "source": [
      "# The Friedman Test \n",
      "        \n",
      "        This test exames the null hypothesis that repeated measurements of the same individuals have the same distribution. However, it additionally requires the groups have are paired and thus have the same size, which our data satisfies."
     ]
    },
    {
     "cell_type": "code",
     "collapsed": false,
     "input": [
      "# In order to apply Friedman test, measurements must have equal length, hence,\n",
      "# ASSUME that all the missing days are of no information\n",
      "\n",
      "#FridayFM = Friday + [NaN]*63\n",
      "#MondayFM = Monday + [NaN]*187\n",
      "#TuesdayFM = Tuesday + [NaN]*1\n",
      "#WednesdayFM = Wednesday\n",
      "#ThursdayFM = Thursday + [NaN]*43\n",
      "\n",
      "FridayFM = Friday\n",
      "MondayFM = Monday \n",
      "TuesdayFM = Tuesday \n",
      "WednesdayFM = Wednesday\n",
      "ThursdayFM = Thursday \n",
      "\n",
      "print(len(FridayFM), len(MondayFM), len(TuesdayFM), len(WednesdayFM), len(ThursdayFM))"
     ],
     "language": "python",
     "metadata": {},
     "outputs": []
    },
    {
     "cell_type": "code",
     "collapsed": false,
     "input": [
      "u, fridman_p_value = stats.mstats.friedmanchisquare(FridayFM, MondayFM, TuesdayFM, WednesdayFM, ThursdayFM)\n",
      "print(\"five-measure Friedman test p-value is\", fridman_p_value)\n",
      "\n",
      "# p_value < 0.01 => alternative hypothesis:\n",
      "# some of the measurements were taken differently at the 1% significance level"
     ],
     "language": "python",
     "metadata": {},
     "outputs": []
    },
    {
     "cell_type": "code",
     "collapsed": false,
     "input": [
      "u, p_value = stats.mstats.friedmanchisquare(MondayFM, TuesdayFM, WednesdayFM, ThursdayFM)\n",
      "print(\"four-measure (excluding Friday) Friedman test p-value is\", p_value)\n",
      "\n",
      "# p_value > 0.01 => null hypothesis:\n",
      "# null is not rejected at the 1% significance level, measurements consistant"
     ],
     "language": "python",
     "metadata": {},
     "outputs": []
    },
    {
     "cell_type": "markdown",
     "metadata": {},
     "source": [
      "        The limitation of Friedman Test is that, due to the assumption that the test statistic has a chi squared distribution, the p value is only reliable for n greater than 10 and more than 6 repeated measurements. However, we only as well as could at most have 4 repeated measurements."
     ]
    },
    {
     "cell_type": "markdown",
     "metadata": {},
     "source": [
      "# Statistical Tests Result Table"
     ]
    },
    {
     "cell_type": "code",
     "collapsed": false,
     "input": [
      "# put results in a table\n",
      "\n",
      "data = {'Test Name': ['Wilcoxon rank', 'Matched Pair T', 'Kruskal-Wallis', 'T Statistic', 'Fridman'],\n",
      "        'Requirements': ['independent, dist equal under null', 'paired up, normal', 'one-way ANOVA, iid, normal', 'student\"s t-tests, dof > 30', 'repeated measure same dist?'],\n",
      "        'P Value': [MW_p_value, PT_tstats, ANOVA_p_value, TSTAT_p_value, fridman_p_value],\n",
      "        'Signif': [\">.05\", \"<.01\",\">.05\", \">.05\", \"<.01\"]}\n",
      "football = pd.DataFrame(data, columns=['Test Name', 'Requirements', 'P Value', 'Signif'])\n",
      "print (football)"
     ],
     "language": "python",
     "metadata": {},
     "outputs": []
    },
    {
     "cell_type": "markdown",
     "metadata": {},
     "source": [
      "# Histogram\n",
      "\n",
      "        Among all the tests above, only two tests came up postivie at the 5% signficance level, indicating some confidence that the Friday returns might have a different distribution pattern comparing to the rest of the groups. Again, this observation is drawn under the assumptions that all the required premises were met, unique to each individual test.\n",
      "        \n",
      "        To better visually assess the how Friday group behaves in comparison to the other groups, we plotted the histogram below. From which, we are able to make reference on mean, medium and mode of each group. The historgrams below are standardized, between the Friday group and the non-friday group.\n",
      "        \n",
      "        Looking at the histogram of Friday, we would attempt to think that Friday in general has a smaller expected return among the days of a week. However, when we explicitly computed out the mean of Friday group, and compared that value of the non-friday group, we were bewildered that Friday group actually had a larger expected return - or mean value - however, the histogram suggested that the mode of Friday is smaller.\n",
      "        \n",
      "        Then, we were confident to think that the Friday group is relatively skewed to the left, with a heavier tail at the high-end values. That perhaps was the reason that Friday group had a larger mean. We wish we could reproduce the Friday groups many times as desired, and anlyze its behaviors in a larger scale.\n",
      "        \n",
      "        Hence, we consider Bootstrapping methods thereafter."
     ]
    },
    {
     "cell_type": "code",
     "collapsed": false,
     "input": [
      "# By CLT, mean is asymptotically normal with var = /sigma^{2} over n\n",
      "z = (mean(Friday)-1)/sqrt(var(Friday)/len(Friday))\n",
      "\n",
      "# Null:    mean(Friday) = 1\n",
      "# Alter:   mean(Friday) != 1\n",
      "\n",
      "print(\"z-score is\", z)"
     ],
     "language": "python",
     "metadata": {},
     "outputs": []
    },
    {
     "cell_type": "code",
     "collapsed": false,
     "input": [
      "# By CLT, mean is asymptotically normal with var = /sigma^{2} over n\n",
      "z= (mean(Friday+NonFri)-1)/sqrt(var(Friday+NonFri)/len(Friday+NonFri))\n",
      "\n",
      "# Null:    mean(weekdays) = 1\n",
      "# Alter:   mean(weekdays) != 1\n",
      "\n",
      "print(\"z-score is\", z)"
     ],
     "language": "python",
     "metadata": {},
     "outputs": []
    },
    {
     "cell_type": "code",
     "collapsed": false,
     "input": [
      "# multi normalized histogram of Friday and NonFriday\n",
      "\n",
      "#setbins = [-0.01, -0.008, -0.006, -0.004, -0.002, 0, 0.002, 0.004, 0.006, 0.008, 0.01]\n",
      "plt.hist(Friday, bins=25, label=\"Friday\",  normed=True,  alpha=.5)\n",
      "plt.hist(NonFri+Friday, bins=25, label=\"Pooled Sample\",  normed=True, alpha=.5)\n",
      "#plt.xlim((.9995,1.0005))\n",
      "plt.title('Overnight Return Comparison, Fri vs. Thurs')\n",
      "plt.ylabel('Normalized Histogram, in 1/1000 th')\n",
      "plt.xlabel('Overnight Return')\n",
      "plt.legend(loc=0)"
     ],
     "language": "python",
     "metadata": {},
     "outputs": []
    },
    {
     "cell_type": "code",
     "collapsed": false,
     "input": [
      "print(\"Mean of Fridays is\", mean(Friday), \"and Mean of Pooled is\", mean(NonFri+Friday))"
     ],
     "language": "python",
     "metadata": {},
     "outputs": []
    },
    {
     "cell_type": "code",
     "collapsed": false,
     "input": [
      "print(\"Mean of Pooled is\", mean(NonFri+Friday))"
     ],
     "language": "python",
     "metadata": {},
     "outputs": []
    },
    {
     "cell_type": "markdown",
     "metadata": {},
     "source": [
      "# Kernel Estimation\n",
      "\n",
      "        Before bootstrapping, we would need to train our kernels such that they can catch the raw data's distributions closely. In other words, we want them to be able to reproduce the raw data to the best capacity. Given the underlying distributions were highly concentrated around 1, we were not able to choose a Gaussian kernel but had to try a spike-like \"tophat\" kernel.\n",
      "        \n",
      "        We start off by simulating the raw data set, and compare-and-constrat if the reproduced data collide with the original data well. We scratched new histograms, and observed that the shapes of two histograms almost perfectly resembled each other, as well as the colors blended.  "
     ]
    },
    {
     "cell_type": "code",
     "collapsed": false,
     "input": [
      "from sklearn.neighbors import KernelDensity\n",
      "kde = KernelDensity(bandwidth=.001, algorithm='auto', kernel='tophat', metric='euclidean', atol=0, rtol=0, breadth_first=True, leaf_size=40, metric_params=None)\n",
      "# kernel estimation with tophat as spike-like histogram\n",
      "\n",
      "# train the model\n",
      "kde.fit(Friday)\n",
      "\n",
      "# 100 sample\n",
      "ker100 = kde.sample(n_samples=2000, random_state=None)\n",
      "\n",
      "sample = []\n",
      "for i in range(0, len(ker100)):\n",
      "    sample = sample + ker100.tolist()[0]\n",
      "\n",
      "plt.hist(Friday, bins=25, label=\"Original Friday\", normed=True, alpha=.5)\n",
      "plt.hist(sample, bins=25, normed=True, label=\"Kernel Sampled Friday\", alpha=.5)  # settled down to Friday's\n",
      "plt.title('Bootstrapping on Friday, N=1000 sampled')\n",
      "plt.ylabel('Normalized Histogram, in 1/1000 th')\n",
      "plt.xlabel('Overnight Return')\n",
      "plt.legend(loc=0)\n",
      "\n",
      "# kernel estiamted collapse w/ original, so estimation worked"
     ],
     "language": "python",
     "metadata": {},
     "outputs": []
    },
    {
     "cell_type": "code",
     "collapsed": false,
     "input": [
      "from sklearn.neighbors import KernelDensity\n",
      "kde = KernelDensity(bandwidth=.001, algorithm='auto', kernel='tophat', metric='euclidean', atol=0, rtol=0, breadth_first=True, leaf_size=40, metric_params=None)\n",
      "# kernel estimation with tophat as spike-like histogram\n",
      "\n",
      "# train the model\n",
      "kde.fit(Friday+NonFri)\n",
      "\n",
      "# 100 sample\n",
      "ker100 = kde.sample(n_samples=1000, random_state=None)\n",
      "\n",
      "sample = []\n",
      "for i in range(0, len(ker100)):\n",
      "    sample = sample + ker100.tolist()[0]\n",
      "\n",
      "plt.hist(Friday+NonFri, bins=25, label=\"Original Pooled\", normed=True, alpha=.5)\n",
      "plt.hist(sample, bins=25, normed=True, label=\"Kernel Sampled\", alpha=.5)  # settled down to Friday's\n",
      "plt.title('Bootstrapping on Pooled, N=1000 sampled')\n",
      "plt.ylabel('Normalized Histogram, in 1/1000 th')\n",
      "plt.xlabel('Overnight Return')\n",
      "plt.legend(loc=0)\n",
      "\n",
      "# kernel estiamted collapse w/ original, so estimation worked"
     ],
     "language": "python",
     "metadata": {},
     "outputs": []
    },
    {
     "cell_type": "markdown",
     "metadata": {},
     "source": [
      "# Bootstrap\n",
      "\n",
      "        Then, we are able to bootstrap. We defined the bootstrap function to be the sample mean. Therefore, for each boot, we compute and store the mean of bootstrapped sample. We first plotted the bootstrapped sample means of the Friday group and the population group.\n",
      "        \n",
      "        The Central Limit Theorem dictates the histogram of boostrapped means to be normal, which they are."
     ]
    },
    {
     "cell_type": "code",
     "collapsed": false,
     "input": [
      "MonteCarloBoot = kde.sample(n_samples=1000, random_state=None)"
     ],
     "language": "python",
     "metadata": {},
     "outputs": []
    },
    {
     "cell_type": "code",
     "collapsed": false,
     "input": [
      "BootMean = [None]*len(MonteCarloBoot)\n",
      "def bootMean(MonteCarloBoot, BootMean):\n",
      "    for i in range(0, len(MonteCarloBoot)):\n",
      "        BootMean[i] = MonteCarloBoot[i].mean()\n",
      "    return(BootMean)\n",
      "\n",
      "BootMean = bootMean(MonteCarloBoot, BootMean)\n",
      "\n",
      "# Bootstrapping with T = mean(obs)\n",
      "# v_boot = 1/B * B_sum(T - mean(T))^2\n",
      "\n",
      "Boot_var = std(BootMean)\n",
      "\n",
      "print(\"Monte Carlo Bootstrapping with mean\", mean(BootMean), \"variance\", Boot_var)"
     ],
     "language": "python",
     "metadata": {},
     "outputs": []
    },
    {
     "cell_type": "code",
     "collapsed": false,
     "input": [
      "plt.hist(BootMean, bins=25,normed=True)"
     ],
     "language": "python",
     "metadata": {},
     "outputs": []
    },
    {
     "cell_type": "code",
     "collapsed": false,
     "input": [
      "from sklearn.neighbors import KernelDensity\n",
      "# kernel estimation with tophat as spike-like histogram\n",
      "\n",
      "############################ Friday ############################\n",
      "\n",
      "kdeF = KernelDensity(bandwidth=.001, algorithm='auto', kernel='tophat', metric='euclidean', atol=0, rtol=0, breadth_first=True, leaf_size=40, metric_params=None)\n",
      "\n",
      "kdeF.fit(Friday)\n",
      "FriBoot = kdeF.sample(n_samples=1000, random_state=None)\n",
      "\n",
      "FriBootMean = [None]*len(FriBoot)\n",
      "FriBootMean = bootMean(FriBoot, FriBootMean)\n",
      "\n",
      "############################ Thursday ############################\n",
      "\n",
      "kdeR = KernelDensity(bandwidth=.001, algorithm='auto', kernel='tophat', metric='euclidean', atol=0, rtol=0, breadth_first=True, leaf_size=40, metric_params=None)\n",
      "\n",
      "kdeR.fit(Thursday)\n",
      "ThrBoot = kdeR.sample(n_samples=1000, random_state=None)\n",
      "\n",
      "ThrBootMean = [None]*len(ThrBoot)\n",
      "ThrBootMean = bootMean(ThrBoot, ThrBootMean)\n",
      "\n",
      "\n",
      "############################ Wednesday ############################\n",
      "\n",
      "\n",
      "kdeW = KernelDensity(bandwidth=.001, algorithm='auto', kernel='tophat', metric='euclidean', atol=0, rtol=0, breadth_first=True, leaf_size=40, metric_params=None)\n",
      "\n",
      "kdeW.fit(Wednesday)\n",
      "WedBoot = kdeW.sample(n_samples=1000, random_state=None)\n",
      "\n",
      "WedBootMean = [None]*len(WedBoot)\n",
      "WedBootMean = bootMean(WedBoot, WedBootMean)\n",
      "\n",
      "############################ Tuesday ############################\n",
      "\n",
      "\n",
      "kdeT = KernelDensity(bandwidth=.001, algorithm='auto', kernel='tophat', metric='euclidean', atol=0, rtol=0, breadth_first=True, leaf_size=40, metric_params=None)\n",
      "\n",
      "kdeT.fit(Wednesday)\n",
      "TueBoot = kdeT.sample(n_samples=1000, random_state=None)\n",
      "\n",
      "TueBootMean = [None]*len(TueBoot)\n",
      "TueBootMean = bootMean(TueBoot, TueBootMean)\n",
      "\n",
      "############################ Monday ############################\n",
      "\n",
      "\n",
      "kdeM = KernelDensity(bandwidth=.001, algorithm='auto', kernel='tophat', metric='euclidean', atol=0, rtol=0, breadth_first=True, leaf_size=40, metric_params=None)\n",
      "\n",
      "kdeM.fit(Monday)\n",
      "MonBoot = kdeM.sample(n_samples=1000, random_state=None)\n",
      "\n",
      "MonBootMean = [None]*len(MonBoot)\n",
      "MonBootMean = bootMean(MonBoot, MonBootMean)\n",
      "\n",
      "    \n",
      "# plt.hist(FriBootMean, bins=25,normed=True)"
     ],
     "language": "python",
     "metadata": {},
     "outputs": []
    },
    {
     "cell_type": "code",
     "collapsed": false,
     "input": [
      "plt.hist(FriBootMean, 25, label=\"Fri\", alpha=.5, normed=True)\n",
      "#plt.hist(ThrBootMean, 25, label=\"Thr\", alpha=.5, normed=True)\n",
      "#plt.hist(WedBootMean, 25, label=\"Wed\", alpha=.5, normed=True)\n",
      "#plt.hist(TueBootMean, 25, label=\"Tue\", alpha=.5, normed=True)\n",
      "#plt.hist(MonBootMean, 25, label=\"Mon\", alpha=.5,normed=True)\n",
      "#plt.hist(BootMean, 25, label=\"Pooled\", alpha=.5, normed=True)\n",
      "plt.legend(loc=0)\n",
      "plt.ticklabel_format(style='plain', axis='x', scilimits=(0,0))\n",
      "plt.title('Bootstrap on g(T) = Sample Mean')\n",
      "plt.ylabel('Normalized Histogram, in 1/10000000 th')\n",
      "plt.xlabel('Overnight Return')\n",
      "#plt.ylim((0,300000))\n",
      "pyplot.show()"
     ],
     "language": "python",
     "metadata": {},
     "outputs": []
    },
    {
     "cell_type": "markdown",
     "metadata": {},
     "source": [
      "# Bootstrap Results\n",
      "\n",
      "        Monte Carlo Simulation indicates that Friday has different distribution pattern from other days of the week combined. Surprisingly, the Friday group came up the most positive. \n",
      "        \n",
      "        To better understand the following plots, notice that \n",
      "        \n",
      "            1) There are six histograms being plotted on the same picture, but two of which overlapped. \n",
      "            2) The tallest and skinest one is the boot mean of the population. As it had five times as many size of the others, its standard error shrinks to by one over square root of five. Hence, it had a much smaller variability that results a different shape.\n",
      "            3) Among five \"day of the week\" individual boots, Friday had the highest boot means. In other words, Fridays over the last ten years were probably doing better than the rest weekdays.\n",
      "            4) To better see the comparison, notice a cleaner plot underneath the summary plot."
     ]
    },
    {
     "cell_type": "code",
     "collapsed": false,
     "input": [
      "pyplot.hist(FriBootMean, 25, label=\"Fri\", alpha=.5, normed=True)\n",
      "pyplot.hist(ThrBootMean, 25, label=\"Thr\",  alpha=.5, normed=True)\n",
      "pyplot.hist(WedBootMean, 25, label=\"Wed\",  alpha=.5, normed=True)\n",
      "pyplot.hist(TueBootMean, 25, label=\"Tue\",  alpha=.5, normed=True)\n",
      "pyplot.hist(MonBootMean, 25, label=\"Mon\",  alpha=0.5,normed=True)\n",
      "pyplot.hist(BootMean, 25, label=\"Pooled\",  alpha=.5, normed=True)\n",
      "plt.title('Zoomed in Bootstrap')\n",
      "plt.ylabel('Normalized Histogram, in 1/1000000 th')\n",
      "plt.xlabel('Overnight Return')\n",
      "plt.legend(loc=0)\n",
      "#plt.ylim((0,300000))\n",
      "pyplot.show()"
     ],
     "language": "python",
     "metadata": {},
     "outputs": []
    },
    {
     "cell_type": "code",
     "collapsed": false,
     "input": [
      "pyplot.hist(FriBootMean, 25, label=\"Fri\", alpha=.5, normed=True)\n",
      "pyplot.hist(ThrBootMean, 25, label=\"Thr\", alpha=.5, normed=True)\n",
      "#pyplot.hist(WedBootMean, 25, label=\"Wed\", alpha=.5, normed=True)\n",
      "#pyplot.hist(TueBootMean, 25, label=\"Tue\", alpha=.5, normed=True)\n",
      "#pyplot.hist(MonBootMean, 25, label=\"Mon\", alpha=0.5,normed=True)\n",
      "pyplot.hist(BootMean, 25, label=\"Pooled\", alpha=.5, normed=True)\n",
      "plt.title('Reduced Bootstrap')\n",
      "plt.ylabel('Normalized Histogram, in 1/1000000 th')\n",
      "plt.xlabel('Overnight Return')\n",
      "plt.legend(loc=0)\n",
      "plt.ylim((0,300000))\n",
      "pyplot.show()"
     ],
     "language": "python",
     "metadata": {},
     "outputs": []
    },
    {
     "cell_type": "markdown",
     "metadata": {},
     "source": [
      "# Conclusions and Limitations\n",
      "\n",
      "        By now via conventional statistical methods, our group has shown that Friday evenings over the past decade were not necessarily resulting a signficiant lower return. However, we acknowledge there are many aggressive assumptions - and perhaps, loopholes - in our research.\n",
      "        \n",
      "        The main difficulty of the research was that we utilized conventional statistical methods on a time-series finanical data. Oftentimes, as seen eariler, the methods require each comparison group to possess certain properties, such as normality, independence among each observations, IID, and pairwise movements. However, we perhaps shall assume none of those.\n",
      "        \n",
      "        The bootstrapping method was distribution free, meaning that if the data were correctly accessed, the bootstrap summary yet predicts some valuable information of the data structure, regardless correlation within the data set. It is our hope that our audience, at this point, are somewhat convinced that the Weekend Effect might be just a myth."
     ]
    }
   ],
   "metadata": {}
  }
 ]
}
